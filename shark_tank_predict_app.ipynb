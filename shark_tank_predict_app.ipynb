{
 "cells": [
  {
   "cell_type": "code",
   "execution_count": 2,
   "id": "4f53897c",
   "metadata": {},
   "outputs": [],
   "source": [
    "import pandas as pd\n",
    "import numpy as np \n",
    "import matplotlib.pyplot as plt\n",
    "import re\n",
    "import nltk\n"
   ]
  },
  {
   "cell_type": "code",
   "execution_count": 3,
   "id": "7c291742",
   "metadata": {},
   "outputs": [
    {
     "data": {
      "text/html": [
       "<div>\n",
       "<style scoped>\n",
       "    .dataframe tbody tr th:only-of-type {\n",
       "        vertical-align: middle;\n",
       "    }\n",
       "\n",
       "    .dataframe tbody tr th {\n",
       "        vertical-align: top;\n",
       "    }\n",
       "\n",
       "    .dataframe thead th {\n",
       "        text-align: right;\n",
       "    }\n",
       "</style>\n",
       "<table border=\"1\" class=\"dataframe\">\n",
       "  <thead>\n",
       "    <tr style=\"text-align: right;\">\n",
       "      <th></th>\n",
       "      <th>Season_Epi_code</th>\n",
       "      <th>Pitched_Business_Identifier</th>\n",
       "      <th>Pitched_Business_Desc</th>\n",
       "      <th>Deal_Status</th>\n",
       "      <th>Deal_Shark</th>\n",
       "    </tr>\n",
       "  </thead>\n",
       "  <tbody>\n",
       "    <tr>\n",
       "      <th>0</th>\n",
       "      <td>826</td>\n",
       "      <td>Bridal Buddy</td>\n",
       "      <td>a functional slip worn under a wedding gown th...</td>\n",
       "      <td>1</td>\n",
       "      <td>KOL+LG</td>\n",
       "    </tr>\n",
       "    <tr>\n",
       "      <th>1</th>\n",
       "      <td>826</td>\n",
       "      <td>Laid Brand</td>\n",
       "      <td>hair-care products made with pheromones . Laid...</td>\n",
       "      <td>0</td>\n",
       "      <td>NaN</td>\n",
       "    </tr>\n",
       "    <tr>\n",
       "      <th>2</th>\n",
       "      <td>826</td>\n",
       "      <td>Rocketbook</td>\n",
       "      <td>a notebook that can scan contents to cloud ser...</td>\n",
       "      <td>0</td>\n",
       "      <td>NaN</td>\n",
       "    </tr>\n",
       "    <tr>\n",
       "      <th>3</th>\n",
       "      <td>826</td>\n",
       "      <td>Wine &amp; Design</td>\n",
       "      <td>painting classes with wine served . Wine &amp; Des...</td>\n",
       "      <td>1</td>\n",
       "      <td>KOL</td>\n",
       "    </tr>\n",
       "    <tr>\n",
       "      <th>4</th>\n",
       "      <td>824</td>\n",
       "      <td>Peoples Design</td>\n",
       "      <td>a mixing bowl with a built-in scoop . Peoples ...</td>\n",
       "      <td>1</td>\n",
       "      <td>LG</td>\n",
       "    </tr>\n",
       "    <tr>\n",
       "      <th>...</th>\n",
       "      <td>...</td>\n",
       "      <td>...</td>\n",
       "      <td>...</td>\n",
       "      <td>...</td>\n",
       "      <td>...</td>\n",
       "    </tr>\n",
       "    <tr>\n",
       "      <th>701</th>\n",
       "      <td>101</td>\n",
       "      <td>Ava the Elephant</td>\n",
       "      <td>(Emmy the Elephant during show, trademarked a...</td>\n",
       "      <td>1</td>\n",
       "      <td>BC</td>\n",
       "    </tr>\n",
       "    <tr>\n",
       "      <th>702</th>\n",
       "      <td>101</td>\n",
       "      <td>College Foxes Packing Boxes</td>\n",
       "      <td>a packing and organizing service based on an a...</td>\n",
       "      <td>0</td>\n",
       "      <td>NaN</td>\n",
       "    </tr>\n",
       "    <tr>\n",
       "      <th>703</th>\n",
       "      <td>101</td>\n",
       "      <td>Ionic Ear</td>\n",
       "      <td>an implantable Bluetooth device requiring surg...</td>\n",
       "      <td>0</td>\n",
       "      <td>NaN</td>\n",
       "    </tr>\n",
       "    <tr>\n",
       "      <th>704</th>\n",
       "      <td>101</td>\n",
       "      <td>Mr. Tod's Pie Factory</td>\n",
       "      <td>a pie company</td>\n",
       "      <td>1</td>\n",
       "      <td>BC+DJ</td>\n",
       "    </tr>\n",
       "    <tr>\n",
       "      <th>705</th>\n",
       "      <td>101</td>\n",
       "      <td>Wispots</td>\n",
       "      <td>an electronic hand-held device for waiting roo...</td>\n",
       "      <td>0</td>\n",
       "      <td>NaN</td>\n",
       "    </tr>\n",
       "  </tbody>\n",
       "</table>\n",
       "<p>706 rows × 5 columns</p>\n",
       "</div>"
      ],
      "text/plain": [
       "     Season_Epi_code  Pitched_Business_Identifier  \\\n",
       "0                826                 Bridal Buddy   \n",
       "1                826                   Laid Brand   \n",
       "2                826                   Rocketbook   \n",
       "3                826                Wine & Design   \n",
       "4                824               Peoples Design   \n",
       "..               ...                          ...   \n",
       "701              101             Ava the Elephant   \n",
       "702              101  College Foxes Packing Boxes   \n",
       "703              101                    Ionic Ear   \n",
       "704              101        Mr. Tod's Pie Factory   \n",
       "705              101                      Wispots   \n",
       "\n",
       "                                 Pitched_Business_Desc  Deal_Status Deal_Shark  \n",
       "0    a functional slip worn under a wedding gown th...            1     KOL+LG  \n",
       "1    hair-care products made with pheromones . Laid...            0        NaN  \n",
       "2    a notebook that can scan contents to cloud ser...            0        NaN  \n",
       "3    painting classes with wine served . Wine & Des...            1        KOL  \n",
       "4    a mixing bowl with a built-in scoop . Peoples ...            1         LG  \n",
       "..                                                 ...          ...        ...  \n",
       "701   (Emmy the Elephant during show, trademarked a...            1         BC  \n",
       "702  a packing and organizing service based on an a...            0        NaN  \n",
       "703  an implantable Bluetooth device requiring surg...            0        NaN  \n",
       "704                                     a pie company             1      BC+DJ  \n",
       "705  an electronic hand-held device for waiting roo...            0        NaN  \n",
       "\n",
       "[706 rows x 5 columns]"
      ]
     },
     "execution_count": 3,
     "metadata": {},
     "output_type": "execute_result"
    }
   ],
   "source": [
    "df = pd.read_csv('Sharktankpitchesdeals.csv')\n",
    "df"
   ]
  },
  {
   "cell_type": "code",
   "execution_count": 15,
   "id": "dcab4dd1",
   "metadata": {},
   "outputs": [
    {
     "name": "stdout",
     "output_type": "stream",
     "text": [
      "a functional slip worn under a wedding gown that allows the wearer to use the restroom on their own . Bridal Buddy is a lightweight slip worn under the gown that lets brides go to the bathroom while wearing it. When nature calls, the bride can bag up her bustle to safely relieve herself without making a mess. \n",
      "\n",
      "hair-care products made with pheromones . Laid brand is a Â pheromone-enriched hair care product thatÂ enhances color, in addition to protecting and hydrating hair.Â The pheromones help girls â€œexude confidenceâ€ wherever she goes. \n",
      "\n",
      "a notebook that can scan contents to cloud services via an app and can be erased by being microwaved . Rocketbook is an intelligent reusable notebook that allows users to write with a traditional pen and notebook. The notebook is erasable and reusable by allowing users to send notes to the cloud. Simply use a smartphone to send writings to the cloud and a microwave oven to erase for future use. \n",
      "\n",
      "painting classes with wine served . Wine & Design provides space for painting classes for all ages and experience levels where aÂ local artist guides each student with stroke-by-stroke instructions to ensure you paint your own unique masterpiece \n",
      "\n",
      "a mixing bowl with a built-in scoop . Peoples Designs Scooping Bowl is a multi-purpose mixing bowl whichÂ saves time, space and money in the kitchen. It features a removable spatula, egg separator, all-in-one washing and draining, in addition to separating various ingredients easily. \n",
      "\n"
     ]
    },
    {
     "data": {
      "text/plain": [
       "['a functional slip worn under a wedding gown that allows the wearer to use the restroom on their own . Bridal Buddy is a lightweight slip worn under the gown that lets brides go to the bathroom while wearing it. When nature calls, the bride can bag up her bustle to safely relieve herself without making a mess.',\n",
       " 'hair-care products made with pheromones . Laid brand is a Â\\xa0pheromone-enriched hair care product thatÂ\\xa0enhances color, in addition to protecting and hydrating hair.Â\\xa0The pheromones help girls â€œexude confidenceâ€\\x9d wherever she goes.',\n",
       " 'a notebook that can scan contents to cloud services via an app and can be erased by being microwaved . Rocketbook is an intelligent reusable notebook that allows users to write with a traditional pen and notebook. The notebook is erasable and reusable by allowing users to send notes to the cloud. Simply use a smartphone to send writings to the cloud and a microwave oven to erase for future use.',\n",
       " 'painting classes with wine served . Wine & Design provides space for painting classes for all ages and experience levels where aÂ\\xa0local artist guides each student with stroke-by-stroke instructions to ensure you paint your own unique masterpiece',\n",
       " 'a mixing bowl with a built-in scoop . Peoples Designs Scooping Bowl is a multi-purpose mixing bowl whichÂ\\xa0saves time, space and money in the kitchen. It features a removable spatula, egg separator, all-in-one washing and draining, in addition to separating various ingredients easily.']"
      ]
     },
     "execution_count": 15,
     "metadata": {},
     "output_type": "execute_result"
    }
   ],
   "source": [
    "Pitch_list = []\n",
    "for i in range(5):\n",
    "    Pitch_list.append(df['Pitched_Business_Desc'][i])\n",
    "    print(df['Pitched_Business_Desc'][i],\"\\n\")\n",
    "    \n",
    "Pitch_list\n",
    "\n"
   ]
  },
  {
   "cell_type": "code",
   "execution_count": 4,
   "id": "ff1785e9",
   "metadata": {},
   "outputs": [],
   "source": [
    "def data_cleaning(corpus):\n",
    "    letters_only = re.sub(\"[^a-zA-Z]\", \" \", corpus) \n",
    "    words = letters_only.lower().split()                            \n",
    "    return( \" \".join( words )) "
   ]
  },
  {
   "cell_type": "code",
   "execution_count": 9,
   "id": "7a4e36e4",
   "metadata": {},
   "outputs": [],
   "source": [
    "from sklearn.model_selection import train_test_split\n",
    "train, test = train_test_split(df,test_size=0.2)"
   ]
  },
  {
   "cell_type": "code",
   "execution_count": 24,
   "id": "a6ad7285",
   "metadata": {},
   "outputs": [
    {
     "name": "stdout",
     "output_type": "stream",
     "text": [
      "['mass market versions of custom jewelry mass market versions of custom jewelry', 'a line of one piece rompers for children rags to raches creates a hot line of kids rompers and other fun t shirts and outfits for your kids and you', 'a line of basic men s clothing manufactured in the usa buck mason is an american made clothing line that features clothes that are of a timeless design and really made in america priced less that many high end made elsewhere clothes you find in the mall buck mason in the st century gives you a classic clothing line made entirely in the usa and at a decent price', 'a booth for automated application of sunscreen you seen photo booths but now there is sunscreen booths sunscreen mist allows you to get misted with sunscreen your choice of spf and bug repellent tanning agent or even aloe one less thing to carry with you now when you re at the beach you don t need to stand down wind from that woman who sprays a whole bottle of sunscreen mist', 'a line of accessories and filters for digital photography and drones polarpro manufactures accessories and snap on filters for gopros drones and cell phones all battle tested by the action sports founders', 'a kit of facial hair maintenance products while lori greiner does not get the beard thing that doesn t negate the fact beardbrand created some solid grooming products for the lifestyle established in beardbrand produces beard oils that are made from high quality all natural ingredients that soften give shine and smell great', 'a urologist who created a solution to bladder problems on a golf course', 'edible disposable cups with various flavors', 'a simple tool to immediately stop water from a fire sprinkler a simple tool to immediately stop water from a fire sprinkler', 'clip on gum and contact lens cases clip on gum and clip on contact lens cases', 'a non gmo vegan and gluten free frosting dollop gourmet produces a non gmo vegan and gluten free frosting', 'a personal use drone that can convert in flight from hover mode to a fast forward flight plane mode xcraft makes the x plusone and the phonedrone the xplusone can self control and follow a flight plan the phone drone will use your phone as the brains and follow you take pics and is an inexpensive entry into the uav world', 'dog friendly frozen yogurt dog friendly frozen yogurt', 'fully customizable slip on sandals islides are personalized slide sandals you can customize them with pictures mantras or team logos to represent your life or sport in comfort and style', 'sleepwear for newborns that imitates the protection of the womb so they don t wake as easily any parent who has been through the rounds of raising a newborn knows how important swaddling a baby is swaddling is the art of snugly wrapping a baby in a blanket for warmth and security imitating their environment in the womb sleeping baby is fantastic because it s swaddle like easy and wearable ready to go sleepwear', 'natural soap nuts for laundry natural soap nuts for laundry', 'a wristwatch with alleged health benefits a wristwatch with supposed health benefits', 'a beer cup that doubles as a shot glass beer cup that doubles as a shot glass', 'gourmet peanuts gourmet peanuts', 'a company that creates custom plush toys based on children s drawings', 'a service to clean mattresses and associated bedding clean sleep provides a services that sanitizes your mattress so you re not sleeping on all that dead skin dust and mites yuk', 'a belt and belt buckle manufacturer a belt and belt buckle manufacturer', 'emergency nourishment pills emergency nourishment pill', 'a line of men s hair styling products pete pedro create men s hair styling products offered by youtube celebrity aaron marino', 'a magic show act a magic show act', 'a masculine nail salon a masculine nail salon', 'a healthy soda', 'a technological solution for sports recruiting from high school to college a technological solution for sports recruiting from high school to college', 'a line of books that use stress relieving techniques to calm kids to sleep a line of books that use stress relieving techniques to calm kids to sleep', 'customizable shelving for school lockers customizable shelving for student lockers', 'a large streamer used as an emergency signal device see rescue streamer is a rescue signal device that can be used on land and in the water day or night it highlights your location so you stand out against your surroundings', 'an app that lets a user hand write a message onto a greeting card and have it mailed for them felt lets you send personal card written in your own handwriting in the mail right from your phone or tablet', 'a real estate search engine a real estate search engine', 'a device which shuts off power to a stove in case of a fire alarm fireavert syncs to your smoke alarm and when smoke is detected it turns off your stove', 'a natural deodorant without chemicals piperwai is a uniquely effective natural charcoal paste deodorant for both men and women', 'a folding plastic clothes hanger a folding plastic clothes hanger', 'a post it note arm for laptops a post it note arm for laptops', 'an online interior design service these design ladies will help you transform your living space by learning about you it s almost like a match making service where you get to figure out what s best suited for you but the girls don t come with the room', 'tortilla chips made with sweet corn instead of grain corn corn tortilla chips manufactured from sweet corn as opposed to grain corn', 'a mini purse cell phone case that carries your smartphone and a few essentials mini purse cell phone case that carries your smartphone and a few essentials', 'natural fruit snacks made with a ai peaceful fruits offers rainforest friendly fair trade and organic fruit snacks that are not only nutritious but also sustainable', 'a digital pinball machine vpcabs creates a digital pinball machine that can play hundreds of different games with the feel of real pinball', 'a subscription box service for puppy owners pupbox is for raising puppies the boxes include training tips meaty treats toys essential accessories and chews based on your puppy s profile customized items are selected for each box', 'leggings with a built in shaper leggings with a built in shaper', 'spill proof sippy cups an innovative and stylish straw sippy cup lollacup makes it simple for infants and toddlers to drink from the straw even when the cup has been tilted lollacup is designed to be an easy to hold effective sippy cup for your young one it s dishwasher safe and no problem to clean made in the usa and fda approved the lollacup comes in a variety of colors', 'a chicken flavored dip chicken flavored dip', 'collapsible storage boxes collapsible storage box design', 'an effervescent tablet for cleaning water bottles and other drinking containers', 'a low calorie gluten free low carb high protein line of pancake mixes abs protein pancakes allows you to enjoy delicious flavored pancakes with g of protein and grams of carbs for each pancake', 'an interchangeable accessories company yourself expression creates interchangeable accessories like bracelets necklaces and rings that allow you to decide what s in and on them to personalize it as often as you like', 'a gourmet meat business specializing in old fashion butcher shop quality echo valley meats provides award winning meats out of peoria illinois for the virtual gourmet online market its founder dave alwan is a third generation cattleman farmer businessman who s made it his mission to provide the best hams smoked sausages and other meats he has traveled to germany and denmark to be trained by the best and it shows although it primarily deals in high quality meats it also sells homemade cheese spreads cinnamon roasted nuts and cookie dough you might have already gotten a taste of echo valley meats as a product on shark tank you can also go download their catalog to settle your cravings', 'a piggyback carrier for children piggyback carrier for children', 'a company that manufactures custom energy bars element bars custom whole food bars lets you create your own custom energy bar by selecting the natural ingredients you prefer the organic ingredients are hand selected and only the highest of quality make the cut element bars are healthy and taste absolutely delicious choose your core granola flavor fruits nuts sweets boosts and name your bar what you want today', 'a baby bib that covers the whole body', 'a valve that allows for quicker inflation of objects such as air mattresses windcatcher technology creates inflatable outdoor and travel gear products which use a patented rapid inflation technology to allow them to inflate in seconds without any power or pumping', 'extreme pogo sticks', 'on plush toys a company that holds the patents to put the words', 'more effective cleaning and degreasing wet wipes more effective cleaning and degreasing wet wipes', 'a stroller designed to be towed while jogging kidrunner is a child jogging stroller designed to be towed behind the runner', 'handbags made from upcycled military materials and manufactured by military spouses r riveter offers purses and accessories made by the hand of spouses wherever the military takes them', 'energy infused flavored water energy infused flavored water', 'a spill proof portable wine glass goverre is a modern portable wine glass which is made with thick glass surrounded by a silicon sleeve this glass is a better solution since beverages taste better in glass than plastic or stainless steel', 'motorized roller skates that strap onto shoes acton skates and scooters builds electric scooters skateboards and skates the blink board types of rocket skates and the m scooter they are rechargeable and eco friendly', 'a packing and organizing service based on an already successful business called college hunks hauling junk a spinoff professional packing and organizing service based on an already successful junk removal and moving business called college hunks hauling junk', 'led powered light gloves for gloving in dance clubs opening doors to creative expression what was once a simple led toy for music festivals these gloves have created a community of light show artists to transform the way we think of entertainment and art a trending product growing exponentially in popularity emazinglights provides leds gloves accessories and apparel for light enthusiasts everywhere perfect for clubbing musical events and light shows emazinglights products are the first in a wave of new party accessories located in sunny california they also puts on local events such as friday night lights boss competitions and the international gloving championship', 'hungry harvest a service delivering less appealing surplus produce at lower costs hungry harvest sources produce that would normally go to waste and recaptures it to and delivers it to reduce food waste and feed hungry families', 'a machine to dry out water damaged electronic devices tekdry is a service that saves technology damaged by water rather than sticking your phone into a bowl of rice tekdry dries the phone in addition to restoring any possible lost data photo and apps it provides a miracle service that can erase that grueling mistake in just minutes and can be found at select stores nationwide', 'a water bottle specially designed for infusing fresh fruit flavor a water bottle specially designed for infusing fresh fruit flavor', 'a system for upgrading communication between patients and medical professionals a system for upgrading communication between patients and medical professionals', 'drone pilot training courses dartdrones offers highest quality training on unmanned aerial systems to ensure the safe integration of drones into the national airspace this is america s leader in drone training consultations and certifications for corporations government agencies and recreational drone pilots', 'aerobics fitness programs classes and dvds a line of new aerobics fitness programs classes and dvds', 'an app that takes degree pictures by making the phone spin itself around app that takes degree pictures by making an iphone spin itself around', 'a floating lure that creates sounds to attract fish the tactibite fish call offers a new high tech way to catch fish this device sends out sounds and vibrations that attract game fish fish are naturally curious and head towards those sounds and vibrations in search of their next meal', 'a bicycle lock and alarm with smart technology linka is a bike lock that is hard mounted to your bike frame and unlocks as you approach your bike', 'clothing featuring art by children with proceeds providing backpacks of school supplies umano takes kids art and makes high quality shirts and then gives backpacks for kids to empower them to unleash their creativity', 'wally amos from the famous amos cookie brand pitches a new line of cookies the famous wally amos brings back taste with cookie kahuna offering cookies with a whole lot of the aloha spirit baked right in wally amos is the man who made cookies famous and now he s back with more amazing cookies', 'a bucket and screen system to make panning for gold easier solving the tedious process of panning little grains of gold from debris gold rush nugget bucket concentrates the tiny particles of gold in the pan beneath making the gold panning process easy beautifully organizing particles of valuable rock gold rush nugget bucket gold panning kit is a gold mining dream', 'a create your own sushi restaurant a create your own sushi restaurant', 'a smartphone app that helps overturn invalid parking and traffic violation tickets fixed is the easiest way to deal with a traffic ticket submit your ticket and if they can help you they ll let you know and get the ticket and point dismissed fast free ticket review attorneys from success rate', 'motorized vehicle suits motorized vehicle suits', 'a weighted workout shirt designed to increase exercise performance titin is a comfortable weighted workout shirt perfect for the fitness buff it is naturally fitted and geared to focus on the surrounding upper body major muscle groups titin is mentioned to noticeably increase your endurance running speed and overall athleticism', 'an entertainment venue in times square new york', 'a line of vinegars to be used in cocktails and soda mixers mcclary brothers drinking vinegars brings back the fruit sweetened vinegar and soda shrub drinks from days past using natural ingredients and flavored drinking vinegars or vinegar syrup they hope to revive an old style cocktail', 'an edible ring designed to catch drips from an ice cream cone the drip drop is an edible waffle cone ring designed to catch drips from an ice cream cone', 'a food truck company wanting to expand into a storefront', 'ribs with the bones removed so they can be eaten with a knife and a fork ribs with the bones removed so they can be eaten with a knife and a fork', 'clear adhesives that improve the look of sagging skin clear adhesives that improve the look of sagging skin', 'an app that helps match students to scholarships', 'a climate control system for maintaining beds at a desired temperature we ve all been there can t sleep because you are either too hot or too cold if only there was something you could do that would instantly make sleeping in your bed comfortable on any of these given nights your solution is here bedjet is a luxury climate control system that cools or heats within your bed it s especially perfect for couples who have opposite tastes for surrounding temperatures as bedjet can control the climate of both sides of the bed no for real one side can be cool and the other side warm', 'an easy assembly furniture line an easy assembly furniture line', 'an alternative to the elf on the shelf for jewish families another tradition for hanukkah intended to bring families together mensch on a bench was created by a father who wanted to teach his kids the meaning of the jewish holiday all while starting a new holiday tradition the mensch on a bench set includes a plush moshe doll a hardcover book and removable bench', 'a vibrating mat for calming crying babies tranquilo is a vibrating mat that calms crying babies by mimicking the sounds and motions of the womb the mat activates a baby s calming response with comforting heartbeat vibrations combined with white sound helping to create much needed sleep for parents and baby', 'a cooking device for basting', 'bed and neck pillows with attached hoods crafted from premium sweatshirt material hoodie pillow is pure bliss comfort and traveler s dream the oversized hood allows for privacy and blocks light while the memory foam pillow naturally allows your head and neck to rest a perfect gift for a businessman or college student always on the go', 'a miniature spatula designed to scrape small containers completely clean a small spatula designed to scrape small containers completely clean', 'shoes that can change look and style shoes that can change look and style', 'ready to drink canned hot coffee hotshot is hot coffee and hot chocolate in a single serve can that s heated and stored hot in the hotbox a hot fridge it s hot grab n go drinks that are always perfect temperature always ready', 'a machine that can test the mercury content in tuna safe catch invented technology to test every fish for mercury and provides low mercury tuna in a can and they do not add any fillers or other chemicals', 'innovative baking pans and accessories', 'an online platform for finding music instructors an online platform for finding music instructors', 'a gift shop for children a gift shop for children', 'a laundry dryer heat recycling device a laundry dryer heat recycling device', 'stationery and greeting cards with d pop up art more than just a greeting card lovepops feature an intricate laser cut hand crafted d pop up sculpture that tells them you really care', 'a service to rent homes in collegiate sports towns on game weekends rent like a champion is the airbnb for college games graduation ceremonies etc they provide private home rentals near campus in college towns around the country so you can have a place to stay when you go see your favorite college sports game or see your favorite college kid graduate', 'hair care products made with pheromones laid brand is a pheromone enriched hair care product that enhances color in addition to protecting and hydrating hair the pheromones help girls exude confidence wherever she goes', 'bread pudding desserts bread pudding desserts', 'arm and legwarmers made from yoga workout material nicepipes apparel offers exclusive athletic leg and arm warmers perfect for any workout and designed for the fit and fashionable', 'high fidelity earplugs specially designed for use at concerts vibes are quality high fidelity earplugs designed for live music they enhance the live sound experience by allowing us to hear the music exactly the way it intended to be heard without the damaging level of sounds', 'emmy the elephant during show trademarked as ava after a plastic elephant shaped device that helps parents give small children oral medicine emmy the elephant during show trademarked as ava after a plastic elephant shaped device that lets parents easily give small children oral medicine', 'beer bottle openers made from caliber bullets do you or someone you know have issues opening bottles with style bottle breachers can help fix that with their handcrafted caliber bottle openers not only do they look cool on their own but they can look even better with some personalized engraving', 'a more comfortable tanning and massage pillow', 'energy bars made with cricket proteins energy bar made of cricket proteins', 'magnetic decorative covers for refrigerators magnetic decorative finish for refrigerators', 'a fitted sheet and sleeping bag combo for making beds quickly and easily a fitted sheet and sleeping bag combo for making beds quickly and easily', 'soybean based modeling dough for those with a wheat allergy a line of soybean based modeling dough aimed at those with a wheat allergy', 'a business that provides balloon artists to restaurants to entertain customers while they wait for their food a business that provides balloon artists to restaurants to entertain customers while they wait for their food', 'a how to dress for success dvd series for men a how to dress for success dvd series for men', 'custom playing cards for exercising custom playing cards for exercise', 'children s swimwear with uv sun protection children s swimwear with uv sun protection', 'a smartphone app that hides messages from certain contacts a smartphone app that hides messages from certain contacts', 'hair rollers that dry and style overnight the sleep styler is an exclusive product that keeps your hair dry and stylish while you sleep the average woman spends an hour a day drying and styling her hair but the sleep styler cuts that down to just minutes', 'a company that teaches how to become a good sales rep a company that teaches how to become a good sales rep', 'a line of pet toys houses and accessories innovation pet creates upscale modular designed pet play things and pens', 'a basketball training device a basketball training device', 'a construction set toy roominate is a brain stimulating award winning toy perfect for aspiring young kids who love to learn and have fun it is affiliated with stem touching on critical thinking within the science tech engineering and math fields roominate is toted as an open ended version of legos', 'high nutrient dog treats made from specially processed yak cheese originally created from an ancient himalayan recipe himalayan dog chew are hard cheese snacks made of yak and cow milk editable for all sized dogs containing all natural products and no preservatives himalayan dog chews are a healthy high quality dog chew sure to give your pet plenty of eating entertainment', 'a protector for credit cards to prevent them from being remotely scanned signalvault protects your credit cards driver license and passports and anything with rfid from being stolen by hackers the cards fit in your wallet and detect hacking and hide your cards from hackers so they cant be read and stolen no batteries required', 'a rock band a rock band', 'a digital doorman storage system for drop off and pick up of various delivery items clean cube is a cleaning delivery service for buildings so renters can drop off and pick up laundry without leaving the building or finding a shop', 'a children s book and doll to encourage children to trade their halloween candy for a gift switch witch helps parents start a new halloween tradition of exchanging some of their candy for a gift', 'a pizza delivery box made out of recycled materials that can be broken down into plates and storage containers eco friendly and recyclable the greenbox pizza box is a game changer in the pizza delivery industry it is uniquely engineered to break up into four sturdy plates and still maintain it s box use for storing left overs this eliminates the need to waste the likes of plastic wrap aluminum foil disposable plates and more own a pizza place greenbox offers customization to suit your branding get greenbox the pizza box of the st century', 'flavored mix and match lip balms', 'a natural hand soap that uses dirt to remove heavy grease grip clean is an all natural industrial strength hand soap made with dirt created by three time xgames medalist bryce hudson', 'a do it yourself process for printing photos onto clothing want to design a shirt the modern way lumi solar powered t shirt printing is the easiest way to print your own shirts and textiles featuring innovative solar powered inkodyne lumi is a printing kit that comes with everything you need print awesome new age patterns and colors on just about any clothing material you can get your hands on simply apply the ink for about minutes on a nice sunny day and boom done', 'a food truck serving lobster from maine mobile food truck', 'a fitness program that teaches how to improve workout efficiency a fitness program that teaches how to improve workout efficiency and an exercise machine', 'an all in one placemat and plate with suction cups designed for use by toddlers ezpz happy mats are all in one placemat plate that suctions to the table capturing kids messes and eliminating tipped bowls and spilled food kids and parents and therapists love it', 'a connector for fire hydrant hoses that is faster and easier to use', 'a hand grip designed to help the user better handle fitness equipment natural grips were designed to protect your palms from rips when lifting weights and crossfit training the grips are made from a zinc oxide cotton tape and are available in a variety of sizes and colors a hand grip designed to help the user better handle fitness equipment', 'a designer brand of headphones with changeable styles frends demoed a collection of fashionable electronic accessories specifically headsets with interchangeable designer looks on shark tank', 'a mail order subscription service for fun and unique socks foot cardigan is a monthly subscription to socks crazy socks for adults kids girls and boys creative designs and colors to make your feet happy', 'a wine cruise business a wine cruise business']\n"
     ]
    }
   ],
   "source": [
    "train_corpus = []\n",
    "test_corpus = []\n",
    "for each in train['Pitched_Business_Desc']:\n",
    "    train_corpus.append(each)\n",
    "for each in test['Pitched_Business_Desc']:\n",
    "    test_corpus.append(each)\n",
    "\n",
    "from sklearn.feature_extraction.text import CountVectorizer\n",
    "print(test_corpus)\n",
    "v = CountVectorizer(ngram_range=(2,2))\n",
    "train_features = v.fit_transform(train_corpus)\n",
    "test_features=v.transform(test_corpus)"
   ]
  },
  {
   "cell_type": "code",
   "execution_count": 12,
   "id": "1e71d3c9",
   "metadata": {},
   "outputs": [
    {
     "name": "stdout",
     "output_type": "stream",
     "text": [
      "(564, 11364)\n",
      "(142, 11364)\n"
     ]
    }
   ],
   "source": [
    "print(train_features.shape)\n",
    "print(test_features.shape)"
   ]
  },
  {
   "cell_type": "code",
   "execution_count": 13,
   "id": "c460bb91",
   "metadata": {},
   "outputs": [],
   "source": [
    "\n",
    "from sklearn.linear_model import LogisticRegression \n",
    "from sklearn.tree import DecisionTreeClassifier \n",
    "from sklearn import svm \n",
    "from sklearn.linear_model import SGDClassifier \n",
    "from sklearn.ensemble import RandomForestClassifier, GradientBoostingClassifier \n",
    "from sklearn.naive_bayes import MultinomialNB \n",
    "from sklearn.metrics import accuracy_score, recall_score, confusion_matrix "
   ]
  },
  {
   "cell_type": "code",
   "execution_count": 14,
   "id": "3e6aaf36",
   "metadata": {},
   "outputs": [],
   "source": [
    "Classifiers = {'LR':LogisticRegression(random_state=10,C=5,max_iter=200),\n",
    "               'DTC':DecisionTreeClassifier(random_state=10,min_samples_leaf=2),\n",
    "               'RF':RandomForestClassifier(random_state=10,n_estimators=100,n_jobs=-1),\n",
    "               'GBC':GradientBoostingClassifier(random_state=10,n_estimators=400,learning_rate=0.2),\n",
    "               'SGD':SGDClassifier(loss=\"hinge\", penalty=\"l2\"),\n",
    "               'SVM':svm.SVC(kernel='linear', C=0.1),\n",
    "               'NB':MultinomialNB(alpha=.05)}"
   ]
  },
  {
   "cell_type": "code",
   "execution_count": 21,
   "id": "f2b50a91",
   "metadata": {},
   "outputs": [],
   "source": [
    "def ML_Pipeline(clf_name):\n",
    "    clf = Classifiers[clf_name]\n",
    "    fit = clf.fit(train_features,train['Deal_Status'])\n",
    "    pred = clf.predict(test_features)\n",
    "    Accuracy = accuracy_score(test['Deal_Status'],pred)\n",
    "    Confusion_matrix = confusion_matrix(test['Deal_Status'],pred)\n",
    "    import seaborn as sns\n",
    "    sns.heatmap(Confusion_matrix,annot=True,fmt='d')\n",
    "    print('==='*20)\n",
    "    print('Accuracy = '+str(Accuracy))\n",
    "    print('==='*20) \n",
    "    print(Confusion_matrix)\n",
    "\n"
   ]
  },
  {
   "cell_type": "code",
   "execution_count": 22,
   "id": "0e6b2e97",
   "metadata": {},
   "outputs": [
    {
     "name": "stdout",
     "output_type": "stream",
     "text": [
      "============================================================\n",
      "Accuracy = 0.5070422535211268\n",
      "============================================================\n",
      "[[14 50]\n",
      " [20 58]]\n"
     ]
    },
    {
     "data": {
      "image/png": "[encoded data removed]",
      "text/plain": [
       "<Figure size 640x480 with 2 Axes>"
      ]
     },
     "metadata": {},
     "output_type": "display_data"
    }
   ],
   "source": [
    "ML_Pipeline('LR')"
   ]
  },
  {
   "cell_type": "code",
   "execution_count": 17,
   "id": "7fb0a7df",
   "metadata": {},
   "outputs": [
    {
     "name": "stdout",
     "output_type": "stream",
     "text": [
      "============================================================\n",
      "Accuracy = 0.5140845070422535\n",
      "============================================================\n",
      "[[47 17]\n",
      " [52 26]]\n"
     ]
    }
   ],
   "source": [
    "ML_Pipeline('DTC')"
   ]
  },
  {
   "cell_type": "code",
   "execution_count": null,
   "id": "049073c6",
   "metadata": {},
   "outputs": [],
   "source": []
  }
 ],
 "metadata": {
  "kernelspec": {
   "display_name": "Python 3 (ipykernel)",
   "language": "python",
   "name": "python3"
  },
  "language_info": {
   "codemirror_mode": {
    "name": "ipython",
    "version": 3
   },
   "file_extension": ".py",
   "mimetype": "text/x-python",
   "name": "python",
   "nbconvert_exporter": "python",
   "pygments_lexer": "ipython3",
   "version": "3.11.2"
  }
 },
 "nbformat": 4,
 "nbformat_minor": 5
}
